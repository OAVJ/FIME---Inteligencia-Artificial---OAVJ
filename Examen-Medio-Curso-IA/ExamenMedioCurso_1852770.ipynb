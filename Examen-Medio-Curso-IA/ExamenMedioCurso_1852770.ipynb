{
  "nbformat": 4,
  "nbformat_minor": 0,
  "metadata": {
    "colab": {
      "name": "ExamenMedioCurso_1852770.ipynb",
      "provenance": []
    },
    "kernelspec": {
      "name": "python3",
      "display_name": "Python 3"
    },
    "language_info": {
      "name": "python"
    }
  },
  "cells": [
    {
      "cell_type": "code",
      "metadata": {
        "id": "LFY744x9I4bB"
      },
      "source": [
        "Examen Medio Curso: Inteligencia Artificial y Redes Neuronales        Oliver Azael Vázquez Juárez       Matrícula: 1852770      Hora de la Clase: N4"
      ],
      "execution_count": null,
      "outputs": []
    },
    {
      "cell_type": "code",
      "metadata": {
        "colab": {
          "base_uri": "https://localhost:8080/"
        },
        "id": "Fw1ZCK5UI8YY",
        "outputId": "2f08444d-139c-42ab-c660-3f9baf9cef17"
      },
      "source": [
        "#Ejercicio 1\n",
        "lista = [10,15,17,21,22,34,37,40,45,52,66,68,81,84,91,94,102,105,109]\n",
        "\n",
        "print(\"Lista sin números pares:\", end=\" \")\n",
        "for i in lista:\n",
        "  if i % 2 == 1:\n",
        "    x = x + 1\n",
        "    print(i, end=\" \")\n"
      ],
      "execution_count": 102,
      "outputs": [
        {
          "output_type": "stream",
          "name": "stdout",
          "text": [
            "Lista sin números pares: 15 17 21 37 45 81 91 105 109 "
          ]
        }
      ]
    },
    {
      "cell_type": "code",
      "metadata": {
        "colab": {
          "base_uri": "https://localhost:8080/"
        },
        "id": "aKxP4574tcow",
        "outputId": "48210d0a-c95e-4af8-9355-f9793c4189cb"
      },
      "source": [
        "#Ejercicio 2\n",
        "print(\"Acontinuación se le solicita que escriba 5 de sus películas favoritas, siendo la primera la más favorita y la ultima la menos favorita:\")\n",
        "a = input(\"Primer película favorita:\")\n",
        "b = input(\"Segunda película favorita:\")\n",
        "c = input(\"Tercer película favorita:\")\n",
        "d = input(\"Cuarta película favorita:\")\n",
        "e = input(\"Quinta película favorita:\")\n",
        "print(\"\\n\")\n",
        "\n",
        "films = [a, b, c, d, e]\n",
        "\n",
        "x = 1\n",
        "for i in films:\n",
        "  print(\"La película \", i ,\" está en la posición \", x , \" de mi top 5.\")\n",
        "  x = x + 1"
      ],
      "execution_count": 79,
      "outputs": [
        {
          "output_type": "stream",
          "name": "stdout",
          "text": [
            "Acontinuación se le solicita que escriba 5 de sus películas favoritas, siendo la primera la más favorita y la ultima la menos favorita:\n",
            "Primer película favorita:a\n",
            "Segunda película favorita:b\n",
            "Tercer película favorita:c\n",
            "Cuarta película favorita:d\n",
            "Quinta película favorita:e\n",
            "\n",
            "\n",
            "La película  a  está en la posición  1  de mi top 5.\n",
            "La película  b  está en la posición  2  de mi top 5.\n",
            "La película  c  está en la posición  3  de mi top 5.\n",
            "La película  d  está en la posición  4  de mi top 5.\n",
            "La película  e  está en la posición  5  de mi top 5.\n"
          ]
        }
      ]
    }
  ]
}