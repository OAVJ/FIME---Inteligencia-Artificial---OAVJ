{
  "nbformat": 4,
  "nbformat_minor": 0,
  "metadata": {
    "colab": {
      "name": "IA_Ejercicio2_OliverVázquez_1852770",
      "provenance": [],
      "collapsed_sections": []
    },
    "kernelspec": {
      "name": "python3",
      "display_name": "Python 3"
    },
    "language_info": {
      "name": "python"
    }
  },
  "cells": [
    {
      "cell_type": "code",
      "metadata": {
        "id": "nDCAxNcdqsJ8"
      },
      "source": [
        "Actividad 3.- Ejercicios Introducción Python, 2da Parte     Oliver Azael Vázquez Juárez Matrícula: 1852770     Hora de la Clase: N4"
      ],
      "execution_count": null,
      "outputs": []
    },
    {
      "cell_type": "code",
      "metadata": {
        "colab": {
          "base_uri": "https://localhost:8080/"
        },
        "id": "aKxP4574tcow",
        "outputId": "01af98ce-0172-4a9f-8b00-fda2ab257f61"
      },
      "source": [
        "#Ejercicio 1.1 y 1.2\n",
        "print(\"Acontinuación se le solicita que escriba 7 de sus comidas favoritas que sean diferentes:\")\n",
        "a = input(\"Primer comida favorita:\") #Se almacena cada valor escrito en una variable diferente\n",
        "b = input(\"Segunda comida favorita:\")\n",
        "c = input(\"Tercer comida favorita:\")\n",
        "d = input(\"Cuarta comida favorita:\")\n",
        "e = input(\"Quinta comida favorita:\")\n",
        "f = input(\"Sexta comida favorita:\")\n",
        "g = input(\"Séptima comida favorita:\")\n",
        "print(\"\\n\") #Esto se colocó con el objetivo de dejar un espacio entre ambos textos, para una mejor legibilidad\n",
        "\n",
        "comida = [a, b, c, d, e, f, g] #Se almacenan todas las variables en una lista\n",
        "\n",
        "for x in comida: #Se utiliza for para imprimir todas las variables de la lista\n",
        "  print(x)\n",
        "\n",
        "print(\"\\n\") #Esto se colocó con el objetivo de dejar un espacio entre ambos textos, para una mejor legibilidad\n",
        "\n",
        "for x in comida: #Se utiliza for para imprimir todas las variables de la lista agregando una pequeña frase para cada variable\n",
        "  print(\"Una de mis comidas favoritas es\", x)"
      ],
      "execution_count": 104,
      "outputs": [
        {
          "output_type": "stream",
          "name": "stdout",
          "text": [
            "Acontinuación se le solicita que escriba 7 de sus comidas favoritas que sean diferentes:\n",
            "Primer comida favorita:Pizza\n",
            "Segunda comida favorita:Tacos\n",
            "Tercer comida favorita:Burrito\n",
            "Cuarta comida favorita:Ensalada\n",
            "Quinta comida favorita:Lasaña\n",
            "Sexta comida favorita:Hamburguesa\n",
            "Séptima comida favorita:Carne asada\n",
            "\n",
            "\n",
            "Pizza\n",
            "Tacos\n",
            "Burrito\n",
            "Ensalada\n",
            "Lasaña\n",
            "Hamburguesa\n",
            "Carne asada\n",
            "\n",
            "\n",
            "Una de mis comidas favoritas es Pizza\n",
            "Una de mis comidas favoritas es Tacos\n",
            "Una de mis comidas favoritas es Burrito\n",
            "Una de mis comidas favoritas es Ensalada\n",
            "Una de mis comidas favoritas es Lasaña\n",
            "Una de mis comidas favoritas es Hamburguesa\n",
            "Una de mis comidas favoritas es Carne asada\n"
          ]
        }
      ]
    },
    {
      "cell_type": "code",
      "metadata": {
        "colab": {
          "base_uri": "https://localhost:8080/"
        },
        "id": "NmULByseteh2",
        "outputId": "7fc586ce-ad3f-4f78-bbc5-6a360b28e8c2"
      },
      "source": [
        "#Ejercicio 2\n",
        "print(\"Este es el juego de piedra, papel y tijera. Para introducir una opción se debe escribir el número 1 para piedra, 2 para papel y 3 para tijera.\\n\")\n",
        "a = int (input(\"Jugador 1, escribe tu opción:\")) #Se almacenan las opciones de ambos jugadores en variables\n",
        "b = int (input(\"Jugador 2, escribe tu opción:\"))\n",
        "\n",
        "if (a == 1 and b == 3) or (a == 2 and b == 1) or (a == 3 and b == 2): #Todas las posibles victorias del jugador 1\n",
        "  print(\"\\nJugador 1 es el ganador!\")\n",
        "\n",
        "if (a == 3 and b == 1) or (a == 1 and b == 2) or (a == 2 and b == 3): #Todas las posibles victorias del jugador 2\n",
        "  print(\"\\nJugador 2 es el ganador!\")\n",
        "\n",
        "elif a == b: #En casos donde ambos jugadores eligan lo mismo y empaten\n",
        "  print(\"\\nAmbos jugadores eligieron lo mismo, es un empate!\")"
      ],
      "execution_count": 108,
      "outputs": [
        {
          "output_type": "stream",
          "name": "stdout",
          "text": [
            "Este es el juego de piedra, papel y tijera. Para introducir una opción se debe escribir el número 1 para piedra, 2 para papel y 3 para tijera.\n",
            "\n",
            "Jugador 1, escribe tu opción:1\n",
            "Jugador 2, escribe tu opción:2\n",
            "\n",
            "Jugador 2 es el ganador!\n"
          ]
        }
      ]
    },
    {
      "cell_type": "code",
      "metadata": {
        "colab": {
          "base_uri": "https://localhost:8080/"
        },
        "id": "KvUoUcF1thh_",
        "outputId": "0762b13b-88c4-42b9-d85f-a09a4abcd362"
      },
      "source": [
        "#Ejercicio 3\n",
        "lista = [123456,12345,1234,123,12,1,12,123,1234,12345,123456] #Se establece la lista\n",
        "\n",
        "for x in lista: #Se imprimen los valores de la lista\n",
        "  print(x)"
      ],
      "execution_count": 103,
      "outputs": [
        {
          "output_type": "stream",
          "name": "stdout",
          "text": [
            "123456\n",
            "12345\n",
            "1234\n",
            "123\n",
            "12\n",
            "1\n",
            "12\n",
            "123\n",
            "1234\n",
            "12345\n",
            "123456\n"
          ]
        }
      ]
    }
  ]
}