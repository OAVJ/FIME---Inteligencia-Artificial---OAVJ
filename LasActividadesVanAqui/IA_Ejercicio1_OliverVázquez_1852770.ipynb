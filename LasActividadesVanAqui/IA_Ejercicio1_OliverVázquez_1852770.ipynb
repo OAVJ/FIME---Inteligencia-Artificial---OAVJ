{
  "nbformat": 4,
  "nbformat_minor": 0,
  "metadata": {
    "colab": {
      "name": "IA_Ejercicio1_OliverVázquez_1852770",
      "provenance": [],
      "collapsed_sections": []
    },
    "kernelspec": {
      "name": "python3",
      "display_name": "Python 3"
    },
    "language_info": {
      "name": "python"
    }
  },
  "cells": [
    {
      "cell_type": "code",
      "metadata": {
        "id": "nDCAxNcdqsJ8"
      },
      "source": [
        "Actividad 2.- Ejercicios Introducción Python     Oliver Azael Vázquez Juárez Matrícula: 1852770     Hora de la Clase: N4"
      ],
      "execution_count": null,
      "outputs": []
    },
    {
      "cell_type": "code",
      "metadata": {
        "colab": {
          "base_uri": "https://localhost:8080/"
        },
        "id": "15Lz9EdprKcz",
        "outputId": "935e45c9-55ef-411b-c4e2-0ae4a15bd23b"
      },
      "source": [
        "n = input(\"¿Cuál es su nombre?\") #Se pide un nombre y se guarda en la variable \"n\"\n",
        "e = input(\"¿Cuál es su edad?\") #Se pide una edad y se guarda en la variable \"e\"\n",
        "f = input(\"¿Cuál es su frase favorita?\") #Se pide una frase y se guarda en la variable \"f\"\n",
        "a = input(\"¿Quién es el autor de su frase favorita?\") #Se pide el autor de la frase y se guarda en la variable \"a\"\n",
        "\n",
        "#Se concatenan todas las variables asignadas anteriormente junto a unas pequeñas oraciones de palabras para una mejor comprensión del mensaje final, y todo se guarda en la variable \"m\"\n",
        "m = \"La persona llamada \" + n + \" tiene la edad de \" + e + \" años, su frase favorita es \" + '\"{}\"'.format(f) + \" y el autor de dicha frase es el mismísimo \" + a\n",
        "print(m) #Se imprime la variable \"m\""
      ],
      "execution_count": 64,
      "outputs": [
        {
          "output_type": "stream",
          "name": "stdout",
          "text": [
            "¿Cuál es su nombre?Oliver Azael Vázquez Juárez\n",
            "¿Cuál es su edad?20\n",
            "¿Cuál es su frase favorita?La cuarta guerra mudial será con palos y piedras\n",
            "¿Quién es el autor de su frase favorita?Albert Einstein\n",
            "La persona llamada Oliver Azael Vázquez Juárez tiene la edad de 20 años, su frase favorita es \"La cuarta guerra mudial será con palos y piedras\" y el autor de dicha frase es el mismísimo Albert Einstein\n"
          ]
        }
      ]
    },
    {
      "cell_type": "code",
      "metadata": {
        "colab": {
          "base_uri": "https://localhost:8080/"
        },
        "id": "4XpBAMYBxrYO",
        "outputId": "a5e22186-472f-4568-ea9c-a9633b470e1c"
      },
      "source": [
        "a = input(\"Inserte el primer número entero:\") #Se pide el primer número entero y se guarda en la variable \"a\"\n",
        "b = input(\"Inserte el segundo número entero:\") #Se pide el segundo número entero y se guarda en la variable \"b\"\n",
        "\n",
        "x = input(\"Inserte el primer número flotante:\") #Se pide el primer número flotante y se guarda en la variable \"x\"\n",
        "y = input(\"Inserte el segundo número flotante:\") #Se pide el segundo número flotante y se guarda en la variable \"y\"\n",
        "\n",
        "print(\"\\nPara los números enteros:\")\n",
        "s = int(a) + int(b) #Realización de suma con los números enteros\n",
        "r = int(a) - int(b) #Realización de resta con los números enteros\n",
        "m = int(a) * int(b) #Realización de multiplicación con los números enteros\n",
        "d = int(a) / int(b) #Realización de división con los números enteros\n",
        "#Se imprimen las variables antes obtenidas con unas cuantas palabras para una mejor lectura de la impresión\n",
        "print(\"suma:\",a,\"+\",b,\"=\",s)\n",
        "print(\"resta:\",a,\"-\",b,\"=\",r)\n",
        "print(\"multiplicación:\",a,\"*\",b,\"=\",m)\n",
        "print(\"división:\",a,\"/\",b,\"=\",d)\n",
        "\n",
        "print(\"\\nPara los números flotantes:\") #Reasignamos el valor de las variables sin tener ningún problema, debido a que su valor anterior cumplió su propósito al imprimir\n",
        "s = float(x) + float(y) #Realización de suma con los números flotantes\n",
        "r = float(x) - float(y) #Realización de resta con los números flotantes\n",
        "m = float(x) * float(y) #Realización de multiplicación con los números flotantes\n",
        "d = float(x) / float(y) #Realización de división con los números flotantes\n",
        "#Se imprimen las variables con sus valores reasignados y unas cuantos carácteres para mejor lectura de la impresión\n",
        "print(\"suma:\",x,\"+\",y,\"=\",s)\n",
        "print(\"resta:\",x,\"-\",y,\"=\",r)\n",
        "print(\"multiplicación:\",x,\"*\",y,\"=\",m)\n",
        "print(\"división:\",x,\"/\",y,\"=\",d)"
      ],
      "execution_count": 65,
      "outputs": [
        {
          "output_type": "stream",
          "name": "stdout",
          "text": [
            "Inserte el primer número entero:8\n",
            "Inserte el segundo número entero:2\n",
            "Inserte el primer número flotante:7.8\n",
            "Inserte el segundo número flotante:5.9\n",
            "\n",
            "Para los números enteros:\n",
            "suma: 8 + 2 = 10\n",
            "resta: 8 - 2 = 6\n",
            "multiplicación: 8 * 2 = 16\n",
            "división: 8 / 2 = 4.0\n",
            "\n",
            "Para los números flotantes:\n",
            "suma: 7.8 + 5.9 = 13.7\n",
            "resta: 7.8 - 5.9 = 1.8999999999999995\n",
            "multiplicación: 7.8 * 5.9 = 46.02\n",
            "división: 7.8 / 5.9 = 1.3220338983050846\n"
          ]
        }
      ]
    },
    {
      "cell_type": "code",
      "metadata": {
        "colab": {
          "base_uri": "https://localhost:8080/"
        },
        "id": "4Lr_X8v0A4rR",
        "outputId": "c8b7aa71-faf3-4d38-91b9-30ba3cfb5296"
      },
      "source": [
        "print(\"Operadores AND\") #Se realizan las comparaciones haciendo uso de and\n",
        "a = 0<8 and 6<=2\n",
        "b = 5!=6 and 8>7\n",
        "\n",
        "print(\"0<8 and 6<=2 : \",a,\"\\n5!=6 and 8>7 : \",b) #Se imprimen las expresiones junto al resultado\n",
        "\n",
        "print(\"\\nComparadores OR\") #Se realizan las comparaciones haciendo uso de or\n",
        "a = 1>=9 or 4<3\n",
        "b = 5>10 or 6!=8\n",
        "\n",
        "print(\"1>=9 or 4<3 : \",a,\"\\n5>10 or 6!=8 : \",b) #Se imprimen las expresiones junto al resultado\n",
        "\n",
        "print(\"\\nComparadores NOT\") #Se realizan las comparaciones haciendo uso de not\n",
        "a = not (0<8 and 6<=2)\n",
        "b = not (5>10 or 6!=8)\n",
        "\n",
        "print(\"not (0<8 and 6<=2) : \",a,\"\\nnot (5>10 or 6!=8) : \",b) #Se imprimen las expresiones junto al resultado"
      ],
      "execution_count": 66,
      "outputs": [
        {
          "output_type": "stream",
          "name": "stdout",
          "text": [
            "Operadores AND\n",
            "0<8 and 6<=2 :  False \n",
            "5!=6 and 8>7 :  True\n",
            "\n",
            "Comparadores OR\n",
            "1>=9 or 4<3 :  False \n",
            "5>10 or 6!=8 :  True\n",
            "\n",
            "Comparadores NOT\n",
            "not (0<8 and 6<=2) :  True \n",
            "not (5>10 or 6!=8) :  False\n"
          ]
        }
      ]
    }
  ]
}
